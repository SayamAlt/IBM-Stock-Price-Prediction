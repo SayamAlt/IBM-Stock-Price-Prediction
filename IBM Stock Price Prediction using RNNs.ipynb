{
 "cells": [
  {
   "cell_type": "markdown",
   "id": "79d91a54",
   "metadata": {},
   "source": [
    "I'm going to predict the closing stock prices of IBM in 2022 based on all its historical data from 2001-2021."
   ]
  },
  {
   "cell_type": "code",
   "execution_count": 30,
   "id": "333cad05",
   "metadata": {},
   "outputs": [],
   "source": [
    "import numpy as np\n",
    "import pandas as pd\n",
    "import matplotlib.pyplot as plt\n",
    "from sklearn.preprocessing import StandardScaler\n",
    "from keras.models import Sequential\n",
    "from keras.layers import Dense, LSTM, Dropout\n",
    "from sklearn.metrics import mean_squared_error, r2_score"
   ]
  },
  {
   "cell_type": "code",
   "execution_count": 2,
   "id": "e8c71818",
   "metadata": {},
   "outputs": [
    {
     "data": {
      "text/html": [
       "<div>\n",
       "<style scoped>\n",
       "    .dataframe tbody tr th:only-of-type {\n",
       "        vertical-align: middle;\n",
       "    }\n",
       "\n",
       "    .dataframe tbody tr th {\n",
       "        vertical-align: top;\n",
       "    }\n",
       "\n",
       "    .dataframe thead th {\n",
       "        text-align: right;\n",
       "    }\n",
       "</style>\n",
       "<table border=\"1\" class=\"dataframe\">\n",
       "  <thead>\n",
       "    <tr style=\"text-align: right;\">\n",
       "      <th></th>\n",
       "      <th>Date</th>\n",
       "      <th>Open</th>\n",
       "      <th>High</th>\n",
       "      <th>Low</th>\n",
       "      <th>Close</th>\n",
       "      <th>Adj Close</th>\n",
       "      <th>Volume</th>\n",
       "    </tr>\n",
       "  </thead>\n",
       "  <tbody>\n",
       "    <tr>\n",
       "      <th>0</th>\n",
       "      <td>2001-07-23</td>\n",
       "      <td>101.051628</td>\n",
       "      <td>102.246651</td>\n",
       "      <td>100.669212</td>\n",
       "      <td>101.195030</td>\n",
       "      <td>60.314636</td>\n",
       "      <td>6606222</td>\n",
       "    </tr>\n",
       "    <tr>\n",
       "      <th>1</th>\n",
       "      <td>2001-07-24</td>\n",
       "      <td>100.239006</td>\n",
       "      <td>101.481834</td>\n",
       "      <td>99.225624</td>\n",
       "      <td>99.913956</td>\n",
       "      <td>59.551090</td>\n",
       "      <td>7635591</td>\n",
       "    </tr>\n",
       "    <tr>\n",
       "      <th>2</th>\n",
       "      <td>2001-07-25</td>\n",
       "      <td>99.904396</td>\n",
       "      <td>101.051628</td>\n",
       "      <td>98.212234</td>\n",
       "      <td>100.277245</td>\n",
       "      <td>59.767632</td>\n",
       "      <td>6534990</td>\n",
       "    </tr>\n",
       "    <tr>\n",
       "      <th>3</th>\n",
       "      <td>2001-07-26</td>\n",
       "      <td>100.143402</td>\n",
       "      <td>101.338432</td>\n",
       "      <td>98.403442</td>\n",
       "      <td>101.338432</td>\n",
       "      <td>60.400089</td>\n",
       "      <td>8816420</td>\n",
       "    </tr>\n",
       "    <tr>\n",
       "      <th>4</th>\n",
       "      <td>2001-07-27</td>\n",
       "      <td>100.143402</td>\n",
       "      <td>101.290634</td>\n",
       "      <td>99.531548</td>\n",
       "      <td>100.095604</td>\n",
       "      <td>59.659351</td>\n",
       "      <td>4546439</td>\n",
       "    </tr>\n",
       "  </tbody>\n",
       "</table>\n",
       "</div>"
      ],
      "text/plain": [
       "         Date        Open        High         Low       Close  Adj Close  \\\n",
       "0  2001-07-23  101.051628  102.246651  100.669212  101.195030  60.314636   \n",
       "1  2001-07-24  100.239006  101.481834   99.225624   99.913956  59.551090   \n",
       "2  2001-07-25   99.904396  101.051628   98.212234  100.277245  59.767632   \n",
       "3  2001-07-26  100.143402  101.338432   98.403442  101.338432  60.400089   \n",
       "4  2001-07-27  100.143402  101.290634   99.531548  100.095604  59.659351   \n",
       "\n",
       "    Volume  \n",
       "0  6606222  \n",
       "1  7635591  \n",
       "2  6534990  \n",
       "3  8816420  \n",
       "4  4546439  "
      ]
     },
     "execution_count": 2,
     "metadata": {},
     "output_type": "execute_result"
    }
   ],
   "source": [
    "df = pd.read_csv('IBM.csv')\n",
    "df.head()"
   ]
  },
  {
   "cell_type": "code",
   "execution_count": 3,
   "id": "72f29860",
   "metadata": {},
   "outputs": [
    {
     "data": {
      "text/plain": [
       "(5282, 7)"
      ]
     },
     "execution_count": 3,
     "metadata": {},
     "output_type": "execute_result"
    }
   ],
   "source": [
    "df.shape"
   ]
  },
  {
   "cell_type": "code",
   "execution_count": 4,
   "id": "abec2b9a",
   "metadata": {},
   "outputs": [],
   "source": [
    "df.set_index('Date',inplace=True)"
   ]
  },
  {
   "cell_type": "code",
   "execution_count": 5,
   "id": "9666be67",
   "metadata": {},
   "outputs": [],
   "source": [
    "training_set = df.loc['2001-01-01':'2021-12-31']['Close'].to_numpy()\n",
    "test_set = df.loc['2022-01-01':'2022-07-20']['Close'].to_numpy()"
   ]
  },
  {
   "cell_type": "code",
   "execution_count": 6,
   "id": "67291393",
   "metadata": {},
   "outputs": [],
   "source": [
    "scaler = StandardScaler()\n",
    "training_set = scaler.fit_transform(training_set.reshape(-1,1))"
   ]
  },
  {
   "cell_type": "code",
   "execution_count": 7,
   "id": "49d22f3b",
   "metadata": {},
   "outputs": [],
   "source": [
    "X_train = []\n",
    "y_train = []\n",
    "\n",
    "for i in range(120,5145):\n",
    "    X_train.append(training_set[i-120:i,0])\n",
    "    y_train.append(training_set[i,0])\n",
    "\n",
    "X_train, y_train = np.array(X_train), np.array(y_train)"
   ]
  },
  {
   "cell_type": "code",
   "execution_count": 8,
   "id": "7ba115f7",
   "metadata": {},
   "outputs": [],
   "source": [
    "X_train = np.reshape(X_train,(X_train.shape[0],X_train.shape[1],1)) # no. of stock prices, no. of timeseries steps, no. of predictors"
   ]
  },
  {
   "cell_type": "code",
   "execution_count": 9,
   "id": "08ae81f4",
   "metadata": {},
   "outputs": [],
   "source": [
    "regressor = Sequential()"
   ]
  },
  {
   "cell_type": "code",
   "execution_count": 10,
   "id": "9630d1b3",
   "metadata": {},
   "outputs": [],
   "source": [
    "regressor.add(LSTM(units=100,return_sequences=True,input_shape=(X_train.shape[1],1)))"
   ]
  },
  {
   "cell_type": "code",
   "execution_count": 11,
   "id": "d98a57e0",
   "metadata": {},
   "outputs": [],
   "source": [
    "regressor.add(Dropout(0.2))"
   ]
  },
  {
   "cell_type": "code",
   "execution_count": 12,
   "id": "70b8a882",
   "metadata": {},
   "outputs": [],
   "source": [
    "regressor.add(LSTM(units=100,return_sequences=True))\n",
    "regressor.add(Dropout(0.2))"
   ]
  },
  {
   "cell_type": "code",
   "execution_count": 13,
   "id": "f40f8f78",
   "metadata": {},
   "outputs": [],
   "source": [
    "regressor.add(LSTM(units=100,return_sequences=True))\n",
    "regressor.add(Dropout(0.3))"
   ]
  },
  {
   "cell_type": "code",
   "execution_count": 14,
   "id": "5fef9a03",
   "metadata": {},
   "outputs": [],
   "source": [
    "regressor.add(LSTM(units=100,return_sequences=True))\n",
    "regressor.add(Dropout(0.2))"
   ]
  },
  {
   "cell_type": "code",
   "execution_count": 15,
   "id": "78b0b321",
   "metadata": {},
   "outputs": [],
   "source": [
    "regressor.add(LSTM(units=100))\n",
    "regressor.add(Dropout(0.2))"
   ]
  },
  {
   "cell_type": "code",
   "execution_count": 16,
   "id": "8cafe776",
   "metadata": {},
   "outputs": [],
   "source": [
    "regressor.add(Dense(units=1))"
   ]
  },
  {
   "cell_type": "code",
   "execution_count": 17,
   "id": "6e434901",
   "metadata": {},
   "outputs": [],
   "source": [
    "regressor.compile(loss='mean_squared_error',optimizer='adam')"
   ]
  },
  {
   "cell_type": "code",
   "execution_count": 18,
   "id": "eb9c46b2",
   "metadata": {},
   "outputs": [
    {
     "name": "stdout",
     "output_type": "stream",
     "text": [
      "Model: \"sequential\"\n",
      "_________________________________________________________________\n",
      " Layer (type)                Output Shape              Param #   \n",
      "=================================================================\n",
      " lstm (LSTM)                 (None, 120, 100)          40800     \n",
      "                                                                 \n",
      " dropout (Dropout)           (None, 120, 100)          0         \n",
      "                                                                 \n",
      " lstm_1 (LSTM)               (None, 120, 100)          80400     \n",
      "                                                                 \n",
      " dropout_1 (Dropout)         (None, 120, 100)          0         \n",
      "                                                                 \n",
      " lstm_2 (LSTM)               (None, 120, 100)          80400     \n",
      "                                                                 \n",
      " dropout_2 (Dropout)         (None, 120, 100)          0         \n",
      "                                                                 \n",
      " lstm_3 (LSTM)               (None, 120, 100)          80400     \n",
      "                                                                 \n",
      " dropout_3 (Dropout)         (None, 120, 100)          0         \n",
      "                                                                 \n",
      " lstm_4 (LSTM)               (None, 100)               80400     \n",
      "                                                                 \n",
      " dropout_4 (Dropout)         (None, 100)               0         \n",
      "                                                                 \n",
      " dense (Dense)               (None, 1)                 101       \n",
      "                                                                 \n",
      "=================================================================\n",
      "Total params: 362,501\n",
      "Trainable params: 362,501\n",
      "Non-trainable params: 0\n",
      "_________________________________________________________________\n"
     ]
    }
   ],
   "source": [
    "regressor.summary()"
   ]
  },
  {
   "cell_type": "code",
   "execution_count": 19,
   "id": "c88dc1b6",
   "metadata": {},
   "outputs": [
    {
     "name": "stdout",
     "output_type": "stream",
     "text": [
      "Epoch 1/20\n",
      "158/158 [==============================] - 100s 569ms/step - loss: 0.0624\n",
      "Epoch 2/20\n",
      "158/158 [==============================] - 85s 535ms/step - loss: 0.0293\n",
      "Epoch 3/20\n",
      "158/158 [==============================] - 86s 544ms/step - loss: 0.0228\n",
      "Epoch 4/20\n",
      "158/158 [==============================] - 90s 567ms/step - loss: 0.0197\n",
      "Epoch 5/20\n",
      "158/158 [==============================] - 113s 715ms/step - loss: 0.0226\n",
      "Epoch 6/20\n",
      "158/158 [==============================] - 100s 629ms/step - loss: 0.0171\n",
      "Epoch 7/20\n",
      "158/158 [==============================] - 86s 542ms/step - loss: 0.0148\n",
      "Epoch 8/20\n",
      "158/158 [==============================] - 87s 548ms/step - loss: 0.0158\n",
      "Epoch 9/20\n",
      "158/158 [==============================] - 79s 498ms/step - loss: 0.0162\n",
      "Epoch 10/20\n",
      "158/158 [==============================] - 79s 500ms/step - loss: 0.0139\n",
      "Epoch 11/20\n",
      "158/158 [==============================] - 80s 503ms/step - loss: 0.0120\n",
      "Epoch 12/20\n",
      "158/158 [==============================] - 80s 504ms/step - loss: 0.0121\n",
      "Epoch 13/20\n",
      "158/158 [==============================] - 81s 508ms/step - loss: 0.0112\n",
      "Epoch 14/20\n",
      "158/158 [==============================] - 80s 503ms/step - loss: 0.0136\n",
      "Epoch 15/20\n",
      "158/158 [==============================] - 79s 498ms/step - loss: 0.0115\n",
      "Epoch 16/20\n",
      "158/158 [==============================] - 79s 502ms/step - loss: 0.0106\n",
      "Epoch 17/20\n",
      "158/158 [==============================] - 81s 512ms/step - loss: 0.0110\n",
      "Epoch 18/20\n",
      "158/158 [==============================] - 81s 514ms/step - loss: 0.0090\n",
      "Epoch 19/20\n",
      "158/158 [==============================] - 79s 500ms/step - loss: 0.0093\n",
      "Epoch 20/20\n",
      "158/158 [==============================] - 79s 499ms/step - loss: 0.0131\n"
     ]
    },
    {
     "data": {
      "text/plain": [
       "<keras.callbacks.History at 0x255766fdfa0>"
      ]
     },
     "execution_count": 19,
     "metadata": {},
     "output_type": "execute_result"
    }
   ],
   "source": [
    "regressor.fit(X_train,y_train,batch_size=32,epochs=20)"
   ]
  },
  {
   "cell_type": "code",
   "execution_count": 20,
   "id": "412f1d25",
   "metadata": {},
   "outputs": [],
   "source": [
    "inputs = df[len(df)-len(test_set)-120:]['Close'].to_numpy()\n",
    "inputs_scaled = scaler.transform(inputs.reshape(-1,1))"
   ]
  },
  {
   "cell_type": "code",
   "execution_count": 21,
   "id": "f987d80f",
   "metadata": {},
   "outputs": [
    {
     "data": {
      "text/plain": [
       "257"
      ]
     },
     "execution_count": 21,
     "metadata": {},
     "output_type": "execute_result"
    }
   ],
   "source": [
    "len(inputs_scaled)"
   ]
  },
  {
   "cell_type": "code",
   "execution_count": 22,
   "id": "2a0bdf47",
   "metadata": {},
   "outputs": [],
   "source": [
    "X_test = []\n",
    "\n",
    "for i in range(120,257):\n",
    "    X_test.append(inputs_scaled[i-120:i,0])\n",
    "\n",
    "X_test = np.array(X_test)"
   ]
  },
  {
   "cell_type": "code",
   "execution_count": 23,
   "id": "a7971448",
   "metadata": {},
   "outputs": [],
   "source": [
    "X_test = np.reshape(X_test,(X_test.shape[0],X_test.shape[1],1))"
   ]
  },
  {
   "cell_type": "code",
   "execution_count": 24,
   "id": "43e7af6d",
   "metadata": {},
   "outputs": [
    {
     "name": "stdout",
     "output_type": "stream",
     "text": [
      "5/5 [==============================] - 2s 75ms/step\n"
     ]
    }
   ],
   "source": [
    "predicted_stock_prices = regressor.predict(X_test)"
   ]
  },
  {
   "cell_type": "code",
   "execution_count": 28,
   "id": "d40b8ab0",
   "metadata": {},
   "outputs": [],
   "source": [
    "real_stock_prices = scaler.transform(test_set.reshape(-1,1))"
   ]
  },
  {
   "cell_type": "code",
   "execution_count": 29,
   "id": "a79520f0",
   "metadata": {},
   "outputs": [
    {
     "data": {
      "image/png": "[encoded data removed]",
      "text/plain": [
       "<Figure size 864x576 with 1 Axes>"
      ]
     },
     "metadata": {
      "needs_background": "light"
     },
     "output_type": "display_data"
    }
   ],
   "source": [
    "plt.figure(figsize=(12,8))\n",
    "plt.plot(real_stock_prices,color='purple',label='Original IBM Closing Stock Price')\n",
    "plt.plot(predicted_stock_prices,color='blue',label='Predicted IBM Closing Stock Price')\n",
    "plt.title('IBM Closing Stock Price Prediction for 2022')\n",
    "plt.xlabel('Time')\n",
    "plt.ylabel('IBM Stock Price')\n",
    "plt.legend();"
   ]
  },
  {
   "cell_type": "code",
   "execution_count": 31,
   "id": "45f08082",
   "metadata": {},
   "outputs": [
    {
     "name": "stdout",
     "output_type": "stream",
     "text": [
      "RMSE: 0.07292974752952311\n",
      "R2 Score: 0.7648477744015836\n"
     ]
    }
   ],
   "source": [
    "print(\"RMSE:\",np.sqrt(mean_squared_error(real_stock_prices,predicted_stock_prices)))\n",
    "print(\"R2 Score:\",r2_score(real_stock_prices,predicted_stock_prices))"
   ]
  }
 ],
 "metadata": {
  "kernelspec": {
   "display_name": "Python 3 (ipykernel)",
   "language": "python",
   "name": "python3"
  },
  "language_info": {
   "codemirror_mode": {
    "name": "ipython",
    "version": 3
   },
   "file_extension": ".py",
   "mimetype": "text/x-python",
   "name": "python",
   "nbconvert_exporter": "python",
   "pygments_lexer": "ipython3",
   "version": "3.8.8"
  }
 },
 "nbformat": 4,
 "nbformat_minor": 5
}
